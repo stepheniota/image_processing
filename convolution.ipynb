{
 "cells": [
  {
   "cell_type": "markdown",
   "metadata": {},
   "source": [
    "# Arbitrary Convolution\n",
    "\n",
    "Stephen Iota\n",
    "\n",
    "July 2018"
   ]
  },
  {
   "cell_type": "markdown",
   "metadata": {},
   "source": [
    "A convonvolution of two arbitrary functions is defined as:\n",
    "$$(f*g)(x) \\equiv \\int_{-\\infty}^{\\infty}f(t)g(x-t)dt$$\n",
    "A 1D linear discrete convolution can be written as:\n",
    "$$(f*g)(x) = \\sum_{t=0}^{N} f(t)g(x-t)$$\n",
    "where $g(x-t)$ is treated as the *kernal* and $N$ is the *length* of $f(t)$."
   ]
  },
  {
   "cell_type": "code",
   "execution_count": 1,
   "metadata": {},
   "outputs": [],
   "source": [
    "%matplotlib inline\n",
    "import numpy as np\n",
    "import matplotlib.pyplot as plt"
   ]
  },
  {
   "cell_type": "markdown",
   "metadata": {},
   "source": [
    "## Main Function"
   ]
  },
  {
   "cell_type": "code",
   "execution_count": 2,
   "metadata": {},
   "outputs": [],
   "source": [
    "def my_conv(a,ker):\n",
    "    # for array len\n",
    "    if len(a) < len(ker):\n",
    "        a,ker = ker,a\n",
    "        \n",
    "    #reverse order of kernal   \n",
    "    ker = ker[::-1]\n",
    "    \n",
    "    #initialize output array\n",
    "    out = np.zeros(len(a)+len(ker)-1)\n",
    "\n",
    "    #zero padding\n",
    "    if len(a) != len(out):\n",
    "        temp = np.zeros(len(out))\n",
    "        temp[len(out)-len(a):] = a[:len(a)]\n",
    "        a = temp\n",
    "    if len(ker) != len(out):\n",
    "        temp = np.zeros(len(out))\n",
    "        temp[:len(ker)] = ker[:len(ker)]\n",
    "        ker = temp\n",
    "        \n",
    "    #circular boundary conditions\n",
    "    #rolling kernal\n",
    "    \n",
    "    for step in range(len(out): #enumerate? \n",
    "        out[step] = np.sum(a*ker)\n",
    "        ker = np.roll(ker,1)\n",
    "        \n",
    "    \n",
    "    return out"
   ]
  },
  {
   "cell_type": "markdown",
   "metadata": {},
   "source": [
    "Comparing my implementation vs `np.convolve`"
   ]
  },
  {
   "cell_type": "code",
   "execution_count": 3,
   "metadata": {},
   "outputs": [],
   "source": [
    "f = np.random.randint(1,10,size=7)\n",
    "g = np.random.randint(-4,14,size=4)"
   ]
  },
  {
   "cell_type": "code",
   "execution_count": 4,
   "metadata": {},
   "outputs": [
    {
     "name": "stdout",
     "output_type": "stream",
     "text": [
      "[ 32.  84.  64.  76.  57.  66. 109.  67.   9.   8.]\n",
      "[ 32  84  64  76  57  66 109  67   9   8]\n"
     ]
    }
   ],
   "source": [
    "print(my_conv(f,g))\n",
    "print(np.convolve(f,g))"
   ]
  },
  {
   "cell_type": "code",
   "execution_count": 5,
   "metadata": {},
   "outputs": [
    {
     "name": "stdout",
     "output_type": "stream",
     "text": [
      "251 µs ± 10.1 µs per loop (mean ± std. dev. of 7 runs, 1000 loops each)\n",
      "2.47 µs ± 40.1 ns per loop (mean ± std. dev. of 7 runs, 100000 loops each)\n"
     ]
    }
   ],
   "source": [
    "%timeit my_conv(f,g)\n",
    "%timeit np.convolve(f,g)"
   ]
  },
  {
   "cell_type": "code",
   "execution_count": 20,
   "metadata": {},
   "outputs": [],
   "source": [
    "a = np.arange(0,7,1)\n",
    "b = np.arange(0,4,1)\n",
    "c = np.arange(0,10,1)\n",
    "\n",
    "z = my_conv(f,g)"
   ]
  },
  {
   "cell_type": "code",
   "execution_count": 31,
   "metadata": {},
   "outputs": [
    {
     "data": {
      "image/png": "[encoded data removed]",
      "text/plain": [
       "<Figure size 432x288 with 1 Axes>"
      ]
     },
     "metadata": {},
     "output_type": "display_data"
    }
   ],
   "source": [
    "plt.plot(a,f,'b.-')\n",
    "plt.plot(b,g,'r.-')\n",
    "plt.plot(c,z,'go-')\n",
    "plt.show()"
   ]
  },
  {
   "cell_type": "code",
   "execution_count": 15,
   "metadata": {},
   "outputs": [],
   "source": [
    "plt.plot?"
   ]
  },
  {
   "cell_type": "code",
   "execution_count": null,
   "metadata": {},
   "outputs": [],
   "source": []
  }
 ],
 "metadata": {
  "kernelspec": {
   "display_name": "Python 3",
   "language": "python",
   "name": "python3"
  },
  "language_info": {
   "codemirror_mode": {
    "name": "ipython",
    "version": 3
   },
   "file_extension": ".py",
   "mimetype": "text/x-python",
   "name": "python",
   "nbconvert_exporter": "python",
   "pygments_lexer": "ipython3",
   "version": "3.6.4"
  }
 },
 "nbformat": 4,
 "nbformat_minor": 2
}
