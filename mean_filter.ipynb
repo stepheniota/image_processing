{
 "cells": [
  {
   "cell_type": "markdown",
   "metadata": {},
   "source": [
    "# Convolution Mean Filter \n",
    "\n",
    "Stephen Iota\n",
    "\n",
    "July 2018\n",
    "\n",
    "a convolutional mean filter w/ mirror boundary conditions, compared with `skimage` implementation"
   ]
  },
  {
   "cell_type": "markdown",
   "metadata": {},
   "source": [
    "## importing data"
   ]
  },
  {
   "cell_type": "code",
   "execution_count": 2,
   "metadata": {},
   "outputs": [],
   "source": [
    "# standard imports\n",
    "%matplotlib inline\n",
    "import matplotlib.pyplot as plt\n",
    "import numpy as np\n",
    "from numba import jit\n",
    "from skimage.io import imread\n",
    "from skimage.filters.rank import mean\n",
    "\n",
    "plt.rcParams[\"image.cmap\"] = \"gray\""
   ]
  },
  {
   "cell_type": "markdown",
   "metadata": {},
   "source": [
    "## mean filter\n",
    "\n",
    "my idea is to make a new array 2 rows & cols bigger than `img`, then to do reflect boundary conditions into my new empty rows, then procede to do normal for loop as already written below\n"
   ]
  },
  {
   "cell_type": "code",
   "execution_count": 3,
   "metadata": {},
   "outputs": [],
   "source": [
    "@jit\n",
    "def mean_filter(img):\n",
    "    \n",
    "    #std mean kernal\n",
    "    kern = np.ones([3,3])/9\n",
    "    #return copy of img\n",
    "    out = np.zeros(img.shape)\n",
    "    \n",
    "    #len of original img\n",
    "    ocol = len(img[0,:])\n",
    "    orow = len(img[:,0])\n",
    "    \n",
    "    # img_new contains boundary conditions in border\n",
    "    img_new = np.zeros([orow+2,ocol+2])\n",
    "    img_new[1:orow+1,1:ocol+1] = img\n",
    "    \n",
    "    # new values to iterate through\n",
    "    nrow = len(img_new[:,0])\n",
    "    ncol = len(img_new[0,:])\n",
    "    \n",
    "    # corners\n",
    "    img_new[0,0] = img[1,1]\n",
    "    img_new[0,ncol-1] = img[1,ocol-2]\n",
    "    img_new[nrow-1,0] = img[orow-2,1]\n",
    "    img_new[nrow-1,ncol-1] = img[orow-2,ocol-2]\n",
    "    \n",
    "    # left side\n",
    "    img_new[1:nrow-1,0] = img[:,1]\n",
    "    # right side check this one\n",
    "    img_new[1:nrow-1,ncol-1] = img[:,ocol-2]\n",
    "    # top side\n",
    "    img_new[0,1:ncol-1] = img[1,:]\n",
    "    # bottom side\n",
    "    img_new[nrow-1,1:ncol-1] = img[orow-2,:]\n",
    "    \n",
    "    # filtering image\n",
    "    for i in np.arange(1,nrow-1):\n",
    "        for j in np.arange(1,ncol-1):\n",
    "            out[i-1,j-1] = np.sum(kern*img_new[i-1:i+2,j-1:j+2])\n",
    "    \n",
    "    return out"
   ]
  },
  {
   "cell_type": "markdown",
   "metadata": {},
   "source": [
    "## v skimage"
   ]
  },
  {
   "cell_type": "code",
   "execution_count": 4,
   "metadata": {},
   "outputs": [],
   "source": [
    "from skimage.filters.rank import mean as skimean\n",
    "my_kernal = np.ones([3,3])/9"
   ]
  },
  {
   "cell_type": "code",
   "execution_count": 5,
   "metadata": {},
   "outputs": [
    {
     "data": {
      "text/plain": [
       "<matplotlib.image.AxesImage at 0x1c16421320>"
      ]
     },
     "execution_count": 5,
     "metadata": {},
     "output_type": "execute_result"
    },
    {
     "data": {
      "image/png": "[encoded data removed]",
      "text/plain": [
       "<Figure size 432x288 with 1 Axes>"
      ]
     },
     "metadata": {},
     "output_type": "display_data"
    }
   ],
   "source": [
    "image = np.zeros([100,100])\n",
    "\n",
    "image[30:70,30:70] = 1\n",
    "\n",
    "plt.imshow(image)"
   ]
  },
  {
   "cell_type": "code",
   "execution_count": null,
   "metadata": {},
   "outputs": [],
   "source": [
    "ski_image = image\n",
    "\n",
    "for i in range(10):\n",
    "    ski_image = skimean(ski_image,my_kernal)\n",
    "    image = mean_filter()"
   ]
  }
 ],
 "metadata": {
  "kernelspec": {
   "display_name": "Python 3",
   "language": "python",
   "name": "python3"
  },
  "language_info": {
   "codemirror_mode": {
    "name": "ipython",
    "version": 3
   },
   "file_extension": ".py",
   "mimetype": "text/x-python",
   "name": "python",
   "nbconvert_exporter": "python",
   "pygments_lexer": "ipython3",
   "version": "3.6.4"
  }
 },
 "nbformat": 4,
 "nbformat_minor": 2
}
